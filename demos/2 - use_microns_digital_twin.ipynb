{
 "cells": [
  {
   "cell_type": "code",
   "execution_count": 14,
   "id": "a7631507-fc94-4950-9b02-ecb5e340f9a9",
   "metadata": {
    "tags": []
   },
   "outputs": [],
   "source": [
    "from fnn import microns\n",
    "from numpy import full, concatenate\n",
    "import matplotlib.pyplot as plt"
   ]
  },
  {
   "cell_type": "markdown",
   "id": "5a982815-94ec-4893-8193-40fdcfadd1f0",
   "metadata": {},
   "source": [
    "# Use MICrONS digital twin"
   ]
  },
  {
   "cell_type": "markdown",
   "id": "5c06c1e3-a4cc-4245-b16f-6f93200ad4d1",
   "metadata": {},
   "source": [
    "## Specify model"
   ]
  },
  {
   "cell_type": "code",
   "execution_count": 2,
   "id": "e4bc7279-023c-449d-928b-b7f645e74ebb",
   "metadata": {},
   "outputs": [],
   "source": [
    "session = 8\n",
    "scan_idx = 5"
   ]
  },
  {
   "cell_type": "markdown",
   "id": "2e4300ca-63c8-43cb-8d37-2ea4f183313a",
   "metadata": {},
   "source": [
    "## Specify directory"
   ]
  },
  {
   "cell_type": "code",
   "execution_count": 15,
   "id": "6cb76b78-1335-454d-9675-4e9745f0fb09",
   "metadata": {
    "tags": []
   },
   "outputs": [],
   "source": [
    "src_dir = '/groups/saalfeld/saalfeldlab/vijay/fnn/data/microns_digital_twin/params/'"
   ]
  },
  {
   "cell_type": "markdown",
   "id": "05b147cf-3da9-4bc4-9626-d2011ed73c3e",
   "metadata": {},
   "source": [
    "## Load the model"
   ]
  },
  {
   "cell_type": "code",
   "execution_count": 16,
   "id": "633d8b98-ade1-48f4-947d-9f1bb5719c0c",
   "metadata": {
    "tags": []
   },
   "outputs": [],
   "source": [
    "# microns.download_data(directory=src_dir) # uncomment to download the model if not done already\n",
    "\n",
    "# load the model and neuron ids of the MICrONS scan 8-5\n",
    "model, ids = microns.scan(\n",
    "    session=session, \n",
    "    scan_idx=scan_idx, \n",
    "    directory=src_dir\n",
    ")"
   ]
  },
  {
   "cell_type": "markdown",
   "id": "31f06186-a0c0-4dee-8afd-dc856e83efd7",
   "metadata": {},
   "source": [
    "## Generate sample stimulus"
   ]
  },
  {
   "cell_type": "code",
   "execution_count": 17,
   "id": "1836170d-0810-4eb6-8300-ab1a6a011f48",
   "metadata": {
    "tags": []
   },
   "outputs": [],
   "source": [
    "# example 3-second video (3 x 30 frames @ 30 FPS, 144 height, 256 width)\n",
    "frames = concatenate([\n",
    "    full(shape=[30, 144, 256], dtype=\"uint8\", fill_value=0),   # 1 second of black\n",
    "    full(shape=[30, 144, 256], dtype=\"uint8\", fill_value=128), # 1 second of gray\n",
    "    full(shape=[30, 144, 256], dtype=\"uint8\", fill_value=255), # 1 second of white\n",
    "])"
   ]
  },
  {
   "cell_type": "markdown",
   "id": "ec077642-4708-4477-b0fa-66e40951ebd4",
   "metadata": {},
   "source": [
    "## Predict response to stimulus"
   ]
  },
  {
   "cell_type": "code",
   "execution_count": 18,
   "id": "48c95716-048c-4b56-ae8e-512224ee0cb1",
   "metadata": {
    "tags": []
   },
   "outputs": [],
   "source": [
    "# predict the response of neurons to the 3-second video\n",
    "responses = model.predict(stimuli=frames)"
   ]
  },
  {
   "cell_type": "code",
   "execution_count": 19,
   "id": "b8fdc103-b789-446f-8c0e-9bfac2146c3d",
   "metadata": {
    "tags": []
   },
   "outputs": [
    {
     "data": {
      "text/plain": [
       "(90, 9941)"
      ]
     },
     "execution_count": 19,
     "metadata": {},
     "output_type": "execute_result"
    }
   ],
   "source": [
    "responses.shape # frames x neurons"
   ]
  },
  {
   "cell_type": "code",
   "execution_count": null,
   "id": "2e1f5e8d",
   "metadata": {},
   "outputs": [],
   "source": []
  }
 ],
 "metadata": {
  "kernelspec": {
   "display_name": "Python 3 (ipykernel)",
   "language": "python",
   "name": "python3"
  }
 },
 "nbformat": 4,
 "nbformat_minor": 5
}
