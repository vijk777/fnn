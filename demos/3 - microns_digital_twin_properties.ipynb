{
 "cells": [
  {
   "cell_type": "code",
   "execution_count": 22,
   "id": "67457b9a-aaaf-4d37-ad71-3cd212d8307f",
   "metadata": {
    "tags": []
   },
   "outputs": [],
   "source": [
    "from IPython.display import Markdown\n",
    "from pathlib import Path\n",
    "import numpy as np\n",
    "import pandas as pd\n",
    "import matplotlib.pyplot as plt"
   ]
  },
  {
   "cell_type": "markdown",
   "id": "8dae712d-34dd-43bb-b9f6-0dad9b77ff28",
   "metadata": {
    "tags": []
   },
   "source": [
    "# MICrONS digital twin properties\n",
    "\n",
    "## Description\n",
    "\n",
    "The full description in this dataset can be read in the README file displayed below. \n",
    "\n",
    "There are 5 major components to this dataset:\n",
    "```\n",
    "    1. model readout feature weights and readout locations\n",
    "    2. performance metrics for the models\n",
    "    3. orientation and direction tuning\n",
    "    4. predicted neural responses and the stimuli that generated them\n",
    "    5. anatomical information for the predicted neurons\n",
    "```\n",
    "\n",
    "## Download MICrONS digital twin properties\n",
    "\n",
    "**IMPORTANT**\n",
    "\n",
    "By default, the neural responses and stimulus won't be downloaded because of their large size (~30GB). To download them select the appropriate command below.\n",
    "\n",
    "### Run the download script\n",
    "\n",
    "In the cell below, run one of the following commands:\n",
    "        \n",
    "#### 1. Download to the default location:\n",
    "\n",
    "```python\n",
    "!bash /workspace/fnn/scripts/download_microns_digital_twin_properties.sh\n",
    "```\n",
    "\n",
    "#### 2. Download to a custom location:\n",
    "            \n",
    "```python\n",
    "!bash /workspace/fnn/scripts/download_microns_digital_twin_properties.sh /your/custom/path\n",
    "```\n",
    "\n",
    "#### 3. If you want the neural responses and stimulus:\n",
    "\n",
    "```python\n",
    "!bash /workspace/fnn/scripts/download_microns_digital_twin_properties.sh --include-responses\n",
    "```\n",
    "\n",
    "#### 4. To use both a custom path and include the responses:\n",
    "\n",
    "```python\n",
    "!bash /workspace/fnn/scripts/download_microns_digital_twin_properties.sh /your/custom/path --include-responses\n",
    "```\n",
    "\n",
    "### Notes\n",
    "* The path you specify must be visible from inside the container. By default, `/workspace` is a volume mount that maps to the directory where this repository is cloned on the host machine."
   ]
  },
  {
   "cell_type": "markdown",
   "id": "2209f0c4-741b-4a19-9b35-460a5ebeb626",
   "metadata": {},
   "source": [
    "# Specify download directory"
   ]
  },
  {
   "cell_type": "code",
   "execution_count": 24,
   "id": "de08c752-bbc8-4a78-8987-b97de428dd75",
   "metadata": {
    "tags": []
   },
   "outputs": [],
   "source": [
    "data_path = Path('/groups/saalfeld/saalfeldlab/vijay/fnn/data/microns_digital_twin/properties/') "
   ]
  },
  {
   "cell_type": "markdown",
   "id": "bcef9c57-15cf-4a26-879a-d2e680bf68b8",
   "metadata": {},
   "source": [
    "# Run the download script"
   ]
  },
  {
   "cell_type": "code",
   "execution_count": null,
   "id": "b9f0f60e-dc70-4ce9-9b02-9b44ac1cc102",
   "metadata": {
    "tags": []
   },
   "outputs": [
    {
     "name": "stdout",
     "output_type": "stream",
     "text": [
      "Downloading MICrONS model properties to: /workspace/fnn/data/microns_digital_twin/properties\n",
      "Include responses: false\n",
      "Skipping 'responses' directory...\n",
      "Download complete.\n"
     ]
    }
   ],
   "source": [
    "#!bash /workspace/fnn/scripts/download_microns_digital_twin_properties.sh $data_path"
   ]
  },
  {
   "cell_type": "markdown",
   "id": "5cd0f5d1-49c6-4cd9-8aef-ca02aad37cd3",
   "metadata": {},
   "source": [
    "# Display README"
   ]
  },
  {
   "cell_type": "code",
   "execution_count": 25,
   "id": "4bf7c4f2-616e-4aa4-9aba-f40231aa70a3",
   "metadata": {
    "tags": []
   },
   "outputs": [
    {
     "data": {
      "text/markdown": [
       "This README file describes the `v2` exported properties for the MICrONS digital twin.\n",
       "\n",
       "# Contents\n",
       "Properties are located in the following subdirectories:\n",
       "\n",
       "- readout\n",
       "- performance\n",
       "- ori_dir_tuning\n",
       "- responses\n",
       "- anatomy\n",
       "\n",
       "\n",
       "# Subdirectory contents\n",
       "## readout\n",
       "This subdirectory contains readout weights and readout locations for the digital twin model units. \n",
       "```\n",
       "    NAME                    SHAPE               ROWS            PROPERTY\n",
       "    readout_weights.npy     104171 x 512        units           readout_weight_vector\n",
       "    readout_locations.npy   104171 x 2          units           readout_location_x, readout_location_y\n",
       "    units.csv               104171 x 3          units           session, scan_idx, unit_id\n",
       "    metadata.csv            13 x 6              scans           animal_id, session, scan_idx, ...\n",
       "```\n",
       "## performance\n",
       "This subdirectory contains performance metrics for the digital twin model units. \n",
       "```\n",
       "    NAME                    SHAPE               ROWS            PROPERTY\n",
       "    units.csv               104171 x 6          units           session, scan_idx, unit_id, cc_abs, cc_max, cc_norm\n",
       "    metadata.csv            13 x 11             scans           animal_id, session, scan_idx, ...\n",
       "```\n",
       "## ori_dir_tuning\n",
       "This subdirectory contains orientation/ direction tuning metrics for the digital twin model units. \n",
       "\n",
       "Note: These properties are from a slightly different version of the digital twin that had additional training on oriented stimuli. See methods in [2].\n",
       "```\n",
       "    NAME                    SHAPE               ROWS            PROPERTY\n",
       "    units.csv               104171 x 9          units           session, scan_idx, unit_id, OSI, DSI, gOSI, gDSI, pref_ori, pref_dir\n",
       "    metadata.csv            13 x 10             scans           animal_id, session, scan_idx, ...\n",
       "```\n",
       "## responses\n",
       "This subdirectory contains computed responses for the digital twin model units and the stimulus used to generate them.\n",
       "```\n",
       "    NAME                    SHAPE               ROWS            PROPERTY\n",
       "    responses.npy           104171 x 75000      units           response\n",
       "    stimulus.npy            75000 x 144 x 256   frames          image (height x width)\n",
       "    units.csv               104171 x 3          units           session, scan_idx, unit_id\n",
       "    metadata.csv            13 x 11             scans           animal_id, session, scan_idx, sampling_frequency, ...\n",
       "```\n",
       "## anatomy\n",
       "This subdirectory contains the anatomical information for the digital twin model units.\n",
       "```\n",
       "    NAME                    SHAPE               ROWS            PROPERTY\n",
       "    units.csv               104171 x 8          units           session, scan_idx, unit_id, unit_x, unit_y, unit_z, brain_area, field\n",
       "    metadata.csv            13 x 7              scans           animal_id, session, scan_idx, ...\n",
       "```\n",
       "# Property descriptions\n",
       "For more details on each property see methods section of corresponding citation. Citations are listed in the section below.\n",
       "```\n",
       "    NAME                    DESCRIPTION                                                                            CITATION\n",
       "    animal_id               ID of the mouse                                                                        [1 - 3]\n",
       "    session                 ID of the imaging session                                                              [1 - 3]\n",
       "    scan_idx                ID of the scan within the imaging session                                              [1 - 3]\n",
       "    unit_id                 ID of the unit within the scan                                                         [1 - 3]\n",
       "    readout_weight_vector   Readout weights for the unit learned by digital twin model                             [1, 2]\n",
       "    readout_location_x      X coordinate of the readout location, an approximation of \n",
       "                                receptive field center in stimulus space; (-1, -1) bottom-left, (1, 1) top-right   [1, 2]\n",
       "    readout_location_y      Y coordinate of the readout location, an approximation of \n",
       "                                receptive field center in stimulus space; (-1, -1) bottom-left, (1, 1) top-right   [1, 2]\n",
       "    cc_abs                  Test set performance of the digital twin model unit, higher is better                  [1, 2]\n",
       "    cc_max                  Neuron variability score used to normalize digital twin model unit performance         [1, 2]\n",
       "    cc_norm                 Normalized model unit performance, higher is better                                    [1, 2]\n",
       "    OSI                     Orientation selectivity index                                                          [2]\n",
       "    DSI                     Direction selectivity index                                                            [2]\n",
       "    gOSI                    Global orientation selectivity index                                                   [1, 2]\n",
       "    gDSI                    Global direction selectivity index                                                     [1, 2]\n",
       "    pref_ori                Preferred orientation in degrees (0 - 180), vertical bar moving right is 0 and \n",
       "                                orientation increases counter-clockwise                                            [1, 2]\n",
       "    pref_dir                Preferred direction in degrees (0 - 360), vertical bar moving right is 0 and \n",
       "                                orientation increases counter-clockwise                                            [1, 2]\n",
       "    response                Response for each unit to a stimulus frame                                             [1, 2]\n",
       "    image                   Stimulus image (height x width)                                                        [1, 2]\n",
       "    sampling_frequency      Frequency used to resample stimulus video shown to model                               [1]\n",
       "    unit_x                  X-coordinate of unit in cortical space (posterior -> anterior)                         [3]\n",
       "    unit_y                  Y-coordinate of unit in cortical space (lateral -> medial)                             [3]\n",
       "    unit_z                  Z-coordinate of unit in cortical space (superficial -> deep)                           [3]\n",
       "    brain_area              Visual cortical area label                                                             [3]\n",
       "    field                   ID of the two-photon imaging plane, given animal_id, session, scan_idx                 [3] \n",
       "```\n",
       "\n",
       "# Citations\n",
       "```\n",
       "    ID        NAME                                          DOI\n",
       "    1         Wang et al., 2025                             https://doi.org/10.1038/s41586-025-08829-y\n",
       "    2         Ding, Fahey, and Papadopoulos et al., 2025    https://doi.org/10.1038/s41586-025-08840-3\n",
       "    3         MICrONS Consortium et al., 2025               https://doi.org/10.1038/s41586-025-08790-w\n",
       "\n",
       "For use of the digital twin and any properties please cite [1, 2]\n",
       "For use of the anatomical properties please cite [3]\n",
       "```"
      ],
      "text/plain": [
       "<IPython.core.display.Markdown object>"
      ]
     },
     "execution_count": 25,
     "metadata": {},
     "output_type": "execute_result"
    }
   ],
   "source": [
    "with open(data_path / \"README.md\", \"r\") as f:\n",
    "    content = f.read()\n",
    "\n",
    "Markdown(content)"
   ]
  },
  {
   "cell_type": "markdown",
   "id": "5bc9db74-1e71-4702-b62a-84448747bd39",
   "metadata": {},
   "source": [
    "# Load readout weights and readout location"
   ]
  },
  {
   "cell_type": "code",
   "execution_count": 26,
   "id": "20817dd3-b507-4f14-b23e-87835145fd88",
   "metadata": {
    "tags": []
   },
   "outputs": [],
   "source": [
    "readout_path = data_path / 'readout'\n",
    "readout_weights = np.load(readout_path / 'readout_weights.npy')\n",
    "readout_locations = np.load(readout_path / 'readout_locations.npy')\n",
    "readout_units_df = pd.read_csv(readout_path / 'units.csv')"
   ]
  },
  {
   "cell_type": "markdown",
   "id": "1b0f43ce-be5b-41b5-9627-d1627225a372",
   "metadata": {},
   "source": [
    "The length and order of `readout_weights` and `readout_locations` matches the length and order of the model units in the `readout_units_df` dataframe. "
   ]
  },
  {
   "cell_type": "code",
   "execution_count": 27,
   "id": "040ebe12-f629-4c10-a561-8eb6271dc1ba",
   "metadata": {
    "tags": []
   },
   "outputs": [
    {
     "name": "stdout",
     "output_type": "stream",
     "text": [
      "104171 104171 104171\n"
     ]
    }
   ],
   "source": [
    "print(readout_weights.shape[0], readout_locations.shape[0], readout_units_df.shape[0])"
   ]
  },
  {
   "cell_type": "markdown",
   "id": "d410fc16-b392-4775-810c-6731bf487801",
   "metadata": {},
   "source": [
    "You can use the dataframe to subset the readout data:"
   ]
  },
  {
   "cell_type": "code",
   "execution_count": 28,
   "id": "86caba23-f857-428d-9e98-1accc863aa2a",
   "metadata": {
    "tags": []
   },
   "outputs": [
    {
     "data": {
      "text/html": [
       "<div>\n",
       "<style scoped>\n",
       "    .dataframe tbody tr th:only-of-type {\n",
       "        vertical-align: middle;\n",
       "    }\n",
       "\n",
       "    .dataframe tbody tr th {\n",
       "        vertical-align: top;\n",
       "    }\n",
       "\n",
       "    .dataframe thead th {\n",
       "        text-align: right;\n",
       "    }\n",
       "</style>\n",
       "<table border=\"1\" class=\"dataframe\">\n",
       "  <thead>\n",
       "    <tr style=\"text-align: right;\">\n",
       "      <th></th>\n",
       "      <th>session</th>\n",
       "      <th>scan_idx</th>\n",
       "      <th>unit_id</th>\n",
       "    </tr>\n",
       "  </thead>\n",
       "  <tbody>\n",
       "    <tr>\n",
       "      <th>73272</th>\n",
       "      <td>8</td>\n",
       "      <td>5</td>\n",
       "      <td>1</td>\n",
       "    </tr>\n",
       "    <tr>\n",
       "      <th>73273</th>\n",
       "      <td>8</td>\n",
       "      <td>5</td>\n",
       "      <td>2</td>\n",
       "    </tr>\n",
       "    <tr>\n",
       "      <th>73274</th>\n",
       "      <td>8</td>\n",
       "      <td>5</td>\n",
       "      <td>3</td>\n",
       "    </tr>\n",
       "    <tr>\n",
       "      <th>73275</th>\n",
       "      <td>8</td>\n",
       "      <td>5</td>\n",
       "      <td>4</td>\n",
       "    </tr>\n",
       "    <tr>\n",
       "      <th>73276</th>\n",
       "      <td>8</td>\n",
       "      <td>5</td>\n",
       "      <td>5</td>\n",
       "    </tr>\n",
       "    <tr>\n",
       "      <th>...</th>\n",
       "      <td>...</td>\n",
       "      <td>...</td>\n",
       "      <td>...</td>\n",
       "    </tr>\n",
       "    <tr>\n",
       "      <th>83208</th>\n",
       "      <td>8</td>\n",
       "      <td>5</td>\n",
       "      <td>10570</td>\n",
       "    </tr>\n",
       "    <tr>\n",
       "      <th>83209</th>\n",
       "      <td>8</td>\n",
       "      <td>5</td>\n",
       "      <td>10571</td>\n",
       "    </tr>\n",
       "    <tr>\n",
       "      <th>83210</th>\n",
       "      <td>8</td>\n",
       "      <td>5</td>\n",
       "      <td>10572</td>\n",
       "    </tr>\n",
       "    <tr>\n",
       "      <th>83211</th>\n",
       "      <td>8</td>\n",
       "      <td>5</td>\n",
       "      <td>10574</td>\n",
       "    </tr>\n",
       "    <tr>\n",
       "      <th>83212</th>\n",
       "      <td>8</td>\n",
       "      <td>5</td>\n",
       "      <td>10575</td>\n",
       "    </tr>\n",
       "  </tbody>\n",
       "</table>\n",
       "<p>9941 rows × 3 columns</p>\n",
       "</div>"
      ],
      "text/plain": [
       "       session  scan_idx  unit_id\n",
       "73272        8         5        1\n",
       "73273        8         5        2\n",
       "73274        8         5        3\n",
       "73275        8         5        4\n",
       "73276        8         5        5\n",
       "...        ...       ...      ...\n",
       "83208        8         5    10570\n",
       "83209        8         5    10571\n",
       "83210        8         5    10572\n",
       "83211        8         5    10574\n",
       "83212        8         5    10575\n",
       "\n",
       "[9941 rows x 3 columns]"
      ]
     },
     "execution_count": 28,
     "metadata": {},
     "output_type": "execute_result"
    }
   ],
   "source": [
    "session = 8\n",
    "scan_idx = 5\n",
    "readout_subset_df = readout_units_df.query('session == @session and scan_idx == @scan_idx')\n",
    "readout_subset_df"
   ]
  },
  {
   "cell_type": "code",
   "execution_count": 29,
   "id": "ac466bd5-7b3e-449c-8a9a-9a03b9d089ba",
   "metadata": {
    "tags": []
   },
   "outputs": [
    {
     "data": {
      "text/plain": [
       "(9941, 512)"
      ]
     },
     "execution_count": 29,
     "metadata": {},
     "output_type": "execute_result"
    }
   ],
   "source": [
    "# subset readout weights\n",
    "readout_weights[readout_subset_df.index].shape"
   ]
  },
  {
   "cell_type": "code",
   "execution_count": 30,
   "id": "70eee918-fd11-49f0-8ba2-eed440e10588",
   "metadata": {
    "tags": []
   },
   "outputs": [
    {
     "data": {
      "text/plain": [
       "(9941, 2)"
      ]
     },
     "execution_count": 30,
     "metadata": {},
     "output_type": "execute_result"
    }
   ],
   "source": [
    "# subset readout locations\n",
    "readout_locations[readout_subset_df.index].shape"
   ]
  },
  {
   "cell_type": "markdown",
   "id": "d05c9637-b49f-49a0-adda-5ee87138316c",
   "metadata": {},
   "source": [
    "# Load model performance metrics"
   ]
  },
  {
   "cell_type": "code",
   "execution_count": 31,
   "id": "3ceeda17-7408-4c5f-bd1e-6c0faa4f5491",
   "metadata": {
    "tags": []
   },
   "outputs": [
    {
     "data": {
      "text/html": [
       "<div>\n",
       "<style scoped>\n",
       "    .dataframe tbody tr th:only-of-type {\n",
       "        vertical-align: middle;\n",
       "    }\n",
       "\n",
       "    .dataframe tbody tr th {\n",
       "        vertical-align: top;\n",
       "    }\n",
       "\n",
       "    .dataframe thead th {\n",
       "        text-align: right;\n",
       "    }\n",
       "</style>\n",
       "<table border=\"1\" class=\"dataframe\">\n",
       "  <thead>\n",
       "    <tr style=\"text-align: right;\">\n",
       "      <th></th>\n",
       "      <th>session</th>\n",
       "      <th>scan_idx</th>\n",
       "      <th>unit_id</th>\n",
       "      <th>cc_abs</th>\n",
       "      <th>cc_max</th>\n",
       "      <th>cc_norm</th>\n",
       "    </tr>\n",
       "  </thead>\n",
       "  <tbody>\n",
       "    <tr>\n",
       "      <th>0</th>\n",
       "      <td>4</td>\n",
       "      <td>7</td>\n",
       "      <td>1</td>\n",
       "      <td>0.315713</td>\n",
       "      <td>0.444026</td>\n",
       "      <td>0.711024</td>\n",
       "    </tr>\n",
       "    <tr>\n",
       "      <th>1</th>\n",
       "      <td>4</td>\n",
       "      <td>7</td>\n",
       "      <td>3</td>\n",
       "      <td>0.542383</td>\n",
       "      <td>0.744648</td>\n",
       "      <td>0.728375</td>\n",
       "    </tr>\n",
       "    <tr>\n",
       "      <th>2</th>\n",
       "      <td>4</td>\n",
       "      <td>7</td>\n",
       "      <td>4</td>\n",
       "      <td>0.188799</td>\n",
       "      <td>0.276301</td>\n",
       "      <td>0.683309</td>\n",
       "    </tr>\n",
       "    <tr>\n",
       "      <th>3</th>\n",
       "      <td>4</td>\n",
       "      <td>7</td>\n",
       "      <td>5</td>\n",
       "      <td>0.524353</td>\n",
       "      <td>0.890008</td>\n",
       "      <td>0.589155</td>\n",
       "    </tr>\n",
       "    <tr>\n",
       "      <th>4</th>\n",
       "      <td>4</td>\n",
       "      <td>7</td>\n",
       "      <td>6</td>\n",
       "      <td>0.186685</td>\n",
       "      <td>0.531485</td>\n",
       "      <td>0.351252</td>\n",
       "    </tr>\n",
       "    <tr>\n",
       "      <th>...</th>\n",
       "      <td>...</td>\n",
       "      <td>...</td>\n",
       "      <td>...</td>\n",
       "      <td>...</td>\n",
       "      <td>...</td>\n",
       "      <td>...</td>\n",
       "    </tr>\n",
       "    <tr>\n",
       "      <th>104166</th>\n",
       "      <td>9</td>\n",
       "      <td>6</td>\n",
       "      <td>5495</td>\n",
       "      <td>0.179967</td>\n",
       "      <td>0.528865</td>\n",
       "      <td>0.340289</td>\n",
       "    </tr>\n",
       "    <tr>\n",
       "      <th>104167</th>\n",
       "      <td>9</td>\n",
       "      <td>6</td>\n",
       "      <td>5496</td>\n",
       "      <td>0.424928</td>\n",
       "      <td>0.526379</td>\n",
       "      <td>0.807266</td>\n",
       "    </tr>\n",
       "    <tr>\n",
       "      <th>104168</th>\n",
       "      <td>9</td>\n",
       "      <td>6</td>\n",
       "      <td>5497</td>\n",
       "      <td>0.106781</td>\n",
       "      <td>0.737906</td>\n",
       "      <td>0.144708</td>\n",
       "    </tr>\n",
       "    <tr>\n",
       "      <th>104169</th>\n",
       "      <td>9</td>\n",
       "      <td>6</td>\n",
       "      <td>5498</td>\n",
       "      <td>0.422711</td>\n",
       "      <td>0.392068</td>\n",
       "      <td>1.078157</td>\n",
       "    </tr>\n",
       "    <tr>\n",
       "      <th>104170</th>\n",
       "      <td>9</td>\n",
       "      <td>6</td>\n",
       "      <td>5499</td>\n",
       "      <td>0.673581</td>\n",
       "      <td>0.865975</td>\n",
       "      <td>0.777830</td>\n",
       "    </tr>\n",
       "  </tbody>\n",
       "</table>\n",
       "<p>104171 rows × 6 columns</p>\n",
       "</div>"
      ],
      "text/plain": [
       "        session  scan_idx  unit_id    cc_abs    cc_max   cc_norm\n",
       "0             4         7        1  0.315713  0.444026  0.711024\n",
       "1             4         7        3  0.542383  0.744648  0.728375\n",
       "2             4         7        4  0.188799  0.276301  0.683309\n",
       "3             4         7        5  0.524353  0.890008  0.589155\n",
       "4             4         7        6  0.186685  0.531485  0.351252\n",
       "...         ...       ...      ...       ...       ...       ...\n",
       "104166        9         6     5495  0.179967  0.528865  0.340289\n",
       "104167        9         6     5496  0.424928  0.526379  0.807266\n",
       "104168        9         6     5497  0.106781  0.737906  0.144708\n",
       "104169        9         6     5498  0.422711  0.392068  1.078157\n",
       "104170        9         6     5499  0.673581  0.865975  0.777830\n",
       "\n",
       "[104171 rows x 6 columns]"
      ]
     },
     "execution_count": 31,
     "metadata": {},
     "output_type": "execute_result"
    }
   ],
   "source": [
    "perform_path = data_path / 'performance'\n",
    "perform_df = pd.read_csv(perform_path / 'units.csv')\n",
    "perform_df"
   ]
  },
  {
   "cell_type": "markdown",
   "id": "0f457fd4-1240-4496-bf0b-b83f07385aa4",
   "metadata": {},
   "source": [
    "# Load orientation/ direction tuning metrics"
   ]
  },
  {
   "cell_type": "code",
   "execution_count": 32,
   "id": "29c23449-6740-46e7-bd3f-527f0188dbd6",
   "metadata": {
    "tags": []
   },
   "outputs": [
    {
     "data": {
      "text/html": [
       "<div>\n",
       "<style scoped>\n",
       "    .dataframe tbody tr th:only-of-type {\n",
       "        vertical-align: middle;\n",
       "    }\n",
       "\n",
       "    .dataframe tbody tr th {\n",
       "        vertical-align: top;\n",
       "    }\n",
       "\n",
       "    .dataframe thead th {\n",
       "        text-align: right;\n",
       "    }\n",
       "</style>\n",
       "<table border=\"1\" class=\"dataframe\">\n",
       "  <thead>\n",
       "    <tr style=\"text-align: right;\">\n",
       "      <th></th>\n",
       "      <th>session</th>\n",
       "      <th>scan_idx</th>\n",
       "      <th>unit_id</th>\n",
       "      <th>OSI</th>\n",
       "      <th>DSI</th>\n",
       "      <th>gOSI</th>\n",
       "      <th>gDSI</th>\n",
       "      <th>pref_ori</th>\n",
       "      <th>pref_dir</th>\n",
       "    </tr>\n",
       "  </thead>\n",
       "  <tbody>\n",
       "    <tr>\n",
       "      <th>0</th>\n",
       "      <td>4</td>\n",
       "      <td>7</td>\n",
       "      <td>1</td>\n",
       "      <td>0.310454</td>\n",
       "      <td>0.018912</td>\n",
       "      <td>0.157952</td>\n",
       "      <td>0.012620</td>\n",
       "      <td>9.071985</td>\n",
       "      <td>9.071985</td>\n",
       "    </tr>\n",
       "    <tr>\n",
       "      <th>1</th>\n",
       "      <td>4</td>\n",
       "      <td>7</td>\n",
       "      <td>3</td>\n",
       "      <td>0.469847</td>\n",
       "      <td>0.036394</td>\n",
       "      <td>0.246501</td>\n",
       "      <td>0.014493</td>\n",
       "      <td>95.231888</td>\n",
       "      <td>95.231888</td>\n",
       "    </tr>\n",
       "    <tr>\n",
       "      <th>2</th>\n",
       "      <td>4</td>\n",
       "      <td>7</td>\n",
       "      <td>4</td>\n",
       "      <td>0.510367</td>\n",
       "      <td>0.149386</td>\n",
       "      <td>0.274444</td>\n",
       "      <td>0.050542</td>\n",
       "      <td>14.867530</td>\n",
       "      <td>194.867530</td>\n",
       "    </tr>\n",
       "    <tr>\n",
       "      <th>3</th>\n",
       "      <td>4</td>\n",
       "      <td>7</td>\n",
       "      <td>5</td>\n",
       "      <td>0.035709</td>\n",
       "      <td>0.534698</td>\n",
       "      <td>0.040983</td>\n",
       "      <td>0.188552</td>\n",
       "      <td>121.945320</td>\n",
       "      <td>301.945320</td>\n",
       "    </tr>\n",
       "    <tr>\n",
       "      <th>4</th>\n",
       "      <td>4</td>\n",
       "      <td>7</td>\n",
       "      <td>6</td>\n",
       "      <td>0.124569</td>\n",
       "      <td>0.127821</td>\n",
       "      <td>0.047632</td>\n",
       "      <td>0.030144</td>\n",
       "      <td>134.449551</td>\n",
       "      <td>314.449551</td>\n",
       "    </tr>\n",
       "    <tr>\n",
       "      <th>...</th>\n",
       "      <td>...</td>\n",
       "      <td>...</td>\n",
       "      <td>...</td>\n",
       "      <td>...</td>\n",
       "      <td>...</td>\n",
       "      <td>...</td>\n",
       "      <td>...</td>\n",
       "      <td>...</td>\n",
       "      <td>...</td>\n",
       "    </tr>\n",
       "    <tr>\n",
       "      <th>104166</th>\n",
       "      <td>9</td>\n",
       "      <td>6</td>\n",
       "      <td>5495</td>\n",
       "      <td>0.220384</td>\n",
       "      <td>0.104043</td>\n",
       "      <td>0.110788</td>\n",
       "      <td>0.037859</td>\n",
       "      <td>87.640770</td>\n",
       "      <td>87.640770</td>\n",
       "    </tr>\n",
       "    <tr>\n",
       "      <th>104167</th>\n",
       "      <td>9</td>\n",
       "      <td>6</td>\n",
       "      <td>5496</td>\n",
       "      <td>0.561636</td>\n",
       "      <td>0.210905</td>\n",
       "      <td>0.319083</td>\n",
       "      <td>0.095832</td>\n",
       "      <td>104.916594</td>\n",
       "      <td>104.916594</td>\n",
       "    </tr>\n",
       "    <tr>\n",
       "      <th>104168</th>\n",
       "      <td>9</td>\n",
       "      <td>6</td>\n",
       "      <td>5497</td>\n",
       "      <td>0.224800</td>\n",
       "      <td>0.098971</td>\n",
       "      <td>0.112797</td>\n",
       "      <td>0.022414</td>\n",
       "      <td>172.300862</td>\n",
       "      <td>352.300862</td>\n",
       "    </tr>\n",
       "    <tr>\n",
       "      <th>104169</th>\n",
       "      <td>9</td>\n",
       "      <td>6</td>\n",
       "      <td>5498</td>\n",
       "      <td>0.341769</td>\n",
       "      <td>0.281799</td>\n",
       "      <td>0.178285</td>\n",
       "      <td>0.146244</td>\n",
       "      <td>173.277755</td>\n",
       "      <td>353.277755</td>\n",
       "    </tr>\n",
       "    <tr>\n",
       "      <th>104170</th>\n",
       "      <td>9</td>\n",
       "      <td>6</td>\n",
       "      <td>5499</td>\n",
       "      <td>0.534667</td>\n",
       "      <td>0.593998</td>\n",
       "      <td>0.293906</td>\n",
       "      <td>0.266883</td>\n",
       "      <td>155.773321</td>\n",
       "      <td>335.773321</td>\n",
       "    </tr>\n",
       "  </tbody>\n",
       "</table>\n",
       "<p>104171 rows × 9 columns</p>\n",
       "</div>"
      ],
      "text/plain": [
       "        session  scan_idx  unit_id       OSI       DSI      gOSI      gDSI  \\\n",
       "0             4         7        1  0.310454  0.018912  0.157952  0.012620   \n",
       "1             4         7        3  0.469847  0.036394  0.246501  0.014493   \n",
       "2             4         7        4  0.510367  0.149386  0.274444  0.050542   \n",
       "3             4         7        5  0.035709  0.534698  0.040983  0.188552   \n",
       "4             4         7        6  0.124569  0.127821  0.047632  0.030144   \n",
       "...         ...       ...      ...       ...       ...       ...       ...   \n",
       "104166        9         6     5495  0.220384  0.104043  0.110788  0.037859   \n",
       "104167        9         6     5496  0.561636  0.210905  0.319083  0.095832   \n",
       "104168        9         6     5497  0.224800  0.098971  0.112797  0.022414   \n",
       "104169        9         6     5498  0.341769  0.281799  0.178285  0.146244   \n",
       "104170        9         6     5499  0.534667  0.593998  0.293906  0.266883   \n",
       "\n",
       "          pref_ori    pref_dir  \n",
       "0         9.071985    9.071985  \n",
       "1        95.231888   95.231888  \n",
       "2        14.867530  194.867530  \n",
       "3       121.945320  301.945320  \n",
       "4       134.449551  314.449551  \n",
       "...            ...         ...  \n",
       "104166   87.640770   87.640770  \n",
       "104167  104.916594  104.916594  \n",
       "104168  172.300862  352.300862  \n",
       "104169  173.277755  353.277755  \n",
       "104170  155.773321  335.773321  \n",
       "\n",
       "[104171 rows x 9 columns]"
      ]
     },
     "execution_count": 32,
     "metadata": {},
     "output_type": "execute_result"
    }
   ],
   "source": [
    "ori_dir_path = data_path / 'ori_dir_tuning'\n",
    "ori_dir_df = pd.read_csv(ori_dir_path / 'units.csv')\n",
    "ori_dir_df"
   ]
  },
  {
   "cell_type": "markdown",
   "id": "6de4e9ed-df83-4ce5-a86b-5ee93ecfc67f",
   "metadata": {},
   "source": [
    "# Load model unit anatomical information"
   ]
  },
  {
   "cell_type": "code",
   "execution_count": 33,
   "id": "d2d29105-0fe3-466d-9386-ba748ea4c00d",
   "metadata": {
    "tags": []
   },
   "outputs": [
    {
     "data": {
      "text/html": [
       "<div>\n",
       "<style scoped>\n",
       "    .dataframe tbody tr th:only-of-type {\n",
       "        vertical-align: middle;\n",
       "    }\n",
       "\n",
       "    .dataframe tbody tr th {\n",
       "        vertical-align: top;\n",
       "    }\n",
       "\n",
       "    .dataframe thead th {\n",
       "        text-align: right;\n",
       "    }\n",
       "</style>\n",
       "<table border=\"1\" class=\"dataframe\">\n",
       "  <thead>\n",
       "    <tr style=\"text-align: right;\">\n",
       "      <th></th>\n",
       "      <th>session</th>\n",
       "      <th>scan_idx</th>\n",
       "      <th>unit_id</th>\n",
       "      <th>unit_x</th>\n",
       "      <th>unit_y</th>\n",
       "      <th>unit_z</th>\n",
       "      <th>brain_area</th>\n",
       "      <th>field</th>\n",
       "    </tr>\n",
       "  </thead>\n",
       "  <tbody>\n",
       "    <tr>\n",
       "      <th>0</th>\n",
       "      <td>4</td>\n",
       "      <td>7</td>\n",
       "      <td>1</td>\n",
       "      <td>207.46</td>\n",
       "      <td>53.12</td>\n",
       "      <td>133.37</td>\n",
       "      <td>LM</td>\n",
       "      <td>1</td>\n",
       "    </tr>\n",
       "    <tr>\n",
       "      <th>1</th>\n",
       "      <td>4</td>\n",
       "      <td>7</td>\n",
       "      <td>3</td>\n",
       "      <td>294.10</td>\n",
       "      <td>46.95</td>\n",
       "      <td>133.68</td>\n",
       "      <td>LM</td>\n",
       "      <td>1</td>\n",
       "    </tr>\n",
       "    <tr>\n",
       "      <th>2</th>\n",
       "      <td>4</td>\n",
       "      <td>7</td>\n",
       "      <td>4</td>\n",
       "      <td>296.30</td>\n",
       "      <td>59.25</td>\n",
       "      <td>133.32</td>\n",
       "      <td>LM</td>\n",
       "      <td>1</td>\n",
       "    </tr>\n",
       "    <tr>\n",
       "      <th>3</th>\n",
       "      <td>4</td>\n",
       "      <td>7</td>\n",
       "      <td>5</td>\n",
       "      <td>283.65</td>\n",
       "      <td>56.96</td>\n",
       "      <td>133.37</td>\n",
       "      <td>LM</td>\n",
       "      <td>1</td>\n",
       "    </tr>\n",
       "    <tr>\n",
       "      <th>4</th>\n",
       "      <td>4</td>\n",
       "      <td>7</td>\n",
       "      <td>6</td>\n",
       "      <td>342.10</td>\n",
       "      <td>58.60</td>\n",
       "      <td>133.41</td>\n",
       "      <td>LM</td>\n",
       "      <td>1</td>\n",
       "    </tr>\n",
       "    <tr>\n",
       "      <th>...</th>\n",
       "      <td>...</td>\n",
       "      <td>...</td>\n",
       "      <td>...</td>\n",
       "      <td>...</td>\n",
       "      <td>...</td>\n",
       "      <td>...</td>\n",
       "      <td>...</td>\n",
       "      <td>...</td>\n",
       "    </tr>\n",
       "    <tr>\n",
       "      <th>104166</th>\n",
       "      <td>9</td>\n",
       "      <td>6</td>\n",
       "      <td>5495</td>\n",
       "      <td>814.41</td>\n",
       "      <td>1026.08</td>\n",
       "      <td>227.42</td>\n",
       "      <td>V1</td>\n",
       "      <td>4</td>\n",
       "    </tr>\n",
       "    <tr>\n",
       "      <th>104167</th>\n",
       "      <td>9</td>\n",
       "      <td>6</td>\n",
       "      <td>5496</td>\n",
       "      <td>826.12</td>\n",
       "      <td>840.82</td>\n",
       "      <td>226.56</td>\n",
       "      <td>V1</td>\n",
       "      <td>4</td>\n",
       "    </tr>\n",
       "    <tr>\n",
       "      <th>104168</th>\n",
       "      <td>9</td>\n",
       "      <td>6</td>\n",
       "      <td>5497</td>\n",
       "      <td>734.26</td>\n",
       "      <td>284.46</td>\n",
       "      <td>224.84</td>\n",
       "      <td>LM</td>\n",
       "      <td>4</td>\n",
       "    </tr>\n",
       "    <tr>\n",
       "      <th>104169</th>\n",
       "      <td>9</td>\n",
       "      <td>6</td>\n",
       "      <td>5498</td>\n",
       "      <td>771.38</td>\n",
       "      <td>704.89</td>\n",
       "      <td>226.36</td>\n",
       "      <td>V1</td>\n",
       "      <td>4</td>\n",
       "    </tr>\n",
       "    <tr>\n",
       "      <th>104170</th>\n",
       "      <td>9</td>\n",
       "      <td>6</td>\n",
       "      <td>5499</td>\n",
       "      <td>757.72</td>\n",
       "      <td>718.06</td>\n",
       "      <td>226.51</td>\n",
       "      <td>V1</td>\n",
       "      <td>4</td>\n",
       "    </tr>\n",
       "  </tbody>\n",
       "</table>\n",
       "<p>104171 rows × 8 columns</p>\n",
       "</div>"
      ],
      "text/plain": [
       "        session  scan_idx  unit_id  unit_x   unit_y  unit_z brain_area  field\n",
       "0             4         7        1  207.46    53.12  133.37         LM      1\n",
       "1             4         7        3  294.10    46.95  133.68         LM      1\n",
       "2             4         7        4  296.30    59.25  133.32         LM      1\n",
       "3             4         7        5  283.65    56.96  133.37         LM      1\n",
       "4             4         7        6  342.10    58.60  133.41         LM      1\n",
       "...         ...       ...      ...     ...      ...     ...        ...    ...\n",
       "104166        9         6     5495  814.41  1026.08  227.42         V1      4\n",
       "104167        9         6     5496  826.12   840.82  226.56         V1      4\n",
       "104168        9         6     5497  734.26   284.46  224.84         LM      4\n",
       "104169        9         6     5498  771.38   704.89  226.36         V1      4\n",
       "104170        9         6     5499  757.72   718.06  226.51         V1      4\n",
       "\n",
       "[104171 rows x 8 columns]"
      ]
     },
     "execution_count": 33,
     "metadata": {},
     "output_type": "execute_result"
    }
   ],
   "source": [
    "anatomy_path = data_path / 'anatomy'\n",
    "anatomy_df = pd.read_csv(anatomy_path / 'units.csv')\n",
    "anatomy_df"
   ]
  },
  {
   "cell_type": "markdown",
   "id": "4b2c9d5a-d7e5-429a-9a9d-72570e3f685a",
   "metadata": {},
   "source": [
    "# Load model unit responses and stimulus\n",
    "Note: data download script must have been run with the `--include-responses` flag"
   ]
  },
  {
   "cell_type": "code",
   "execution_count": 34,
   "id": "bb7e5b75-32ec-487f-96ad-b8243b2cba13",
   "metadata": {
    "tags": []
   },
   "outputs": [],
   "source": [
    "responses_path = data_path / 'responses'\n",
    "response_arr = np.load(responses_path / 'responses.npy', mmap_mode='r') # loads as memmap (doesn't require loading to memory until the values are accessed)\n",
    "stimulus_arr = np.load(responses_path / 'stimulus.npy', mmap_mode='r') # loads as memmap (doesn't require loading to memory until the values are accessed)\n",
    "response_unit_df = pd.read_csv(responses_path / 'units.csv')\n",
    "response_meta_df = pd.read_csv(responses_path / 'metadata.csv')"
   ]
  },
  {
   "cell_type": "markdown",
   "id": "e52a9b36-c91e-488e-a264-54a9627a6361",
   "metadata": {},
   "source": [
    "`response_arr` holds the responses for all model units to every frame of the stimulus in `stimulus_arr`. The `response_unit_df` dataframe can be used to subset the responses, in the same manner as seen the the `readout` section. "
   ]
  },
  {
   "cell_type": "code",
   "execution_count": 35,
   "id": "31b2d6e2-d3e4-42f3-9f13-46935faddcea",
   "metadata": {
    "tags": []
   },
   "outputs": [
    {
     "name": "stdout",
     "output_type": "stream",
     "text": [
      "(104171, 75000) (75000, 144, 256) (104171, 3)\n"
     ]
    }
   ],
   "source": [
    "print(response_arr.shape, stimulus_arr.shape, response_unit_df.shape)"
   ]
  },
  {
   "cell_type": "markdown",
   "id": "6cbcc363-df82-4bb5-84dc-3e3e8b7ffa5c",
   "metadata": {
    "tags": []
   },
   "source": [
    "To convert the frame index to time, use the `sampling_frequency` for every scan found in the metadata dataframe. "
   ]
  },
  {
   "cell_type": "code",
   "execution_count": 36,
   "id": "c4ea128d-2a30-412f-b8ed-3252349683df",
   "metadata": {
    "tags": []
   },
   "outputs": [
    {
     "data": {
      "text/html": [
       "<div>\n",
       "<style scoped>\n",
       "    .dataframe tbody tr th:only-of-type {\n",
       "        vertical-align: middle;\n",
       "    }\n",
       "\n",
       "    .dataframe tbody tr th {\n",
       "        vertical-align: top;\n",
       "    }\n",
       "\n",
       "    .dataframe thead th {\n",
       "        text-align: right;\n",
       "    }\n",
       "</style>\n",
       "<table border=\"1\" class=\"dataframe\">\n",
       "  <thead>\n",
       "    <tr style=\"text-align: right;\">\n",
       "      <th></th>\n",
       "      <th>session</th>\n",
       "      <th>scan_idx</th>\n",
       "      <th>sampling_frequency</th>\n",
       "    </tr>\n",
       "  </thead>\n",
       "  <tbody>\n",
       "    <tr>\n",
       "      <th>0</th>\n",
       "      <td>4</td>\n",
       "      <td>7</td>\n",
       "      <td>30.0</td>\n",
       "    </tr>\n",
       "    <tr>\n",
       "      <th>1</th>\n",
       "      <td>5</td>\n",
       "      <td>6</td>\n",
       "      <td>30.0</td>\n",
       "    </tr>\n",
       "    <tr>\n",
       "      <th>2</th>\n",
       "      <td>5</td>\n",
       "      <td>7</td>\n",
       "      <td>30.0</td>\n",
       "    </tr>\n",
       "    <tr>\n",
       "      <th>3</th>\n",
       "      <td>6</td>\n",
       "      <td>2</td>\n",
       "      <td>30.0</td>\n",
       "    </tr>\n",
       "    <tr>\n",
       "      <th>4</th>\n",
       "      <td>6</td>\n",
       "      <td>4</td>\n",
       "      <td>30.0</td>\n",
       "    </tr>\n",
       "    <tr>\n",
       "      <th>5</th>\n",
       "      <td>6</td>\n",
       "      <td>6</td>\n",
       "      <td>30.0</td>\n",
       "    </tr>\n",
       "    <tr>\n",
       "      <th>6</th>\n",
       "      <td>6</td>\n",
       "      <td>7</td>\n",
       "      <td>30.0</td>\n",
       "    </tr>\n",
       "    <tr>\n",
       "      <th>7</th>\n",
       "      <td>7</td>\n",
       "      <td>3</td>\n",
       "      <td>30.0</td>\n",
       "    </tr>\n",
       "    <tr>\n",
       "      <th>8</th>\n",
       "      <td>7</td>\n",
       "      <td>5</td>\n",
       "      <td>30.0</td>\n",
       "    </tr>\n",
       "    <tr>\n",
       "      <th>9</th>\n",
       "      <td>8</td>\n",
       "      <td>5</td>\n",
       "      <td>30.0</td>\n",
       "    </tr>\n",
       "    <tr>\n",
       "      <th>10</th>\n",
       "      <td>9</td>\n",
       "      <td>3</td>\n",
       "      <td>30.0</td>\n",
       "    </tr>\n",
       "    <tr>\n",
       "      <th>11</th>\n",
       "      <td>9</td>\n",
       "      <td>4</td>\n",
       "      <td>30.0</td>\n",
       "    </tr>\n",
       "    <tr>\n",
       "      <th>12</th>\n",
       "      <td>9</td>\n",
       "      <td>6</td>\n",
       "      <td>30.0</td>\n",
       "    </tr>\n",
       "  </tbody>\n",
       "</table>\n",
       "</div>"
      ],
      "text/plain": [
       "    session  scan_idx  sampling_frequency\n",
       "0         4         7                30.0\n",
       "1         5         6                30.0\n",
       "2         5         7                30.0\n",
       "3         6         2                30.0\n",
       "4         6         4                30.0\n",
       "5         6         6                30.0\n",
       "6         6         7                30.0\n",
       "7         7         3                30.0\n",
       "8         7         5                30.0\n",
       "9         8         5                30.0\n",
       "10        9         3                30.0\n",
       "11        9         4                30.0\n",
       "12        9         6                30.0"
      ]
     },
     "execution_count": 36,
     "metadata": {},
     "output_type": "execute_result"
    }
   ],
   "source": [
    "response_meta_df[['session', 'scan_idx','sampling_frequency']]"
   ]
  },
  {
   "cell_type": "markdown",
   "id": "01423bf3-a225-4c49-9bab-d38bbdfea42e",
   "metadata": {},
   "source": [
    "Stimulus frames can be plotted as such:"
   ]
  },
  {
   "cell_type": "code",
   "execution_count": 37,
   "id": "11222baf-6860-4efd-8f6d-bbedd5c0764b",
   "metadata": {
    "tags": []
   },
   "outputs": [
    {
     "data": {
      "text/plain": [
       "<matplotlib.image.AxesImage at 0x70162b9f3390>"
      ]
     },
     "execution_count": 37,
     "metadata": {},
     "output_type": "execute_result"
    },
    {
     "data": {
      "image/png": "[encoded data removed]",
      "text/plain": [
       "<Figure size 640x480 with 1 Axes>"
      ]
     },
     "metadata": {},
     "output_type": "display_data"
    }
   ],
   "source": [
    "fig, ax = plt.subplots()\n",
    "ax.imshow(stimulus_arr[12000], cmap='binary_r')"
   ]
  },
  {
   "cell_type": "code",
   "execution_count": null,
   "id": "835a9877",
   "metadata": {},
   "outputs": [],
   "source": []
  }
 ],
 "metadata": {
  "kernelspec": {
   "display_name": "Python 3 (ipykernel)",
   "language": "python",
   "name": "python3"
  }
 },
 "nbformat": 4,
 "nbformat_minor": 5
}
