{
 "cells": [
  {
   "cell_type": "code",
   "execution_count": null,
   "id": "e6c96b69",
   "metadata": {},
   "outputs": [],
   "source": [
    "from pathlib import Path\n",
    "import torch.multiprocessing as mp\n",
    "from fnn.data import load_training_data\n",
    "from fnn.microns.build import network\n",
    "from fnn.microns import load_network_from_params\n",
    "from fnn.train.schedulers import CosineLr\n",
    "from fnn.train.optimizers import SgdClip\n",
    "from fnn.train.loaders import Batches\n",
    "from fnn.train.objectives import NetworkLoss\n",
    "from fnn import microns\n",
    "from fnn.utils import logging\n",
    "import torch\n",
    "import pandas as pd\n",
    "import numpy as np\n",
    "\n",
    "import matplotlib as mpl\n",
    "import matplotlib.pyplot as plt\n",
    "from mpl_toolkits.axes_grid1 import ImageGrid\n",
    "import polars as pl\n",
    "import rerun as rr\n",
    "import torchinfo\n",
    "import sklearn.decomposition\n",
    "import sklearn.manifold\n",
    "import scipy.signal\n",
    "import rastermap\n",
    "import mediapy as mp"
   ]
  },
  {
   "cell_type": "markdown",
   "id": "82237406",
   "metadata": {},
   "source": [
    "# Downloaded data paths"
   ]
  },
  {
   "cell_type": "code",
   "execution_count": null,
   "id": "af22bc21",
   "metadata": {},
   "outputs": [],
   "source": [
    "\n",
    "# training/evaluation data for this session. Note: all the data is uploaded but this data is\n",
    "# already upsampled and ready for training/evaluation.\n",
    "session=4\n",
    "scan_idx=7\n",
    "\n",
    "# Trained model parameters\n",
    "src_dir = \"/groups/saalfeld/saalfeldlab/vijay/fnn/data/microns_digital_twin/params\"\n",
    "\n",
    "# Training data\n",
    "training_data_dir = f\"/groups/saalfeld/saalfeldlab/vijay/fnn/training_data_27203_{session}_{scan_idx}\"\n",
    "\n",
    "# Evaluation data\n",
    "evaluation_data_dir = Path(f\"/groups/saalfeld/saalfeldlab/vijay/fnn/evaluation_data_27203_{session}_{scan_idx}\")\n",
    "\n",
    "unit_anatomy_path = \"/groups/saalfeld/saalfeldlab/vijay/fnn/data/microns_digital_twin/properties/anatomy/units.csv\""
   ]
  },
  {
   "cell_type": "code",
   "execution_count": null,
   "id": "1fe812bb",
   "metadata": {},
   "outputs": [],
   "source": [
    "torch.cuda.empty_cache()\n",
    "device = torch.device(\"cuda\" if torch.cuda.is_available() else \"cpu\")\n",
    "device"
   ]
  },
  {
   "cell_type": "code",
   "execution_count": null,
   "id": "72455aa9",
   "metadata": {},
   "outputs": [],
   "source": [
    "unit_anatomy_df = pl.read_csv(unit_anatomy_path).filter(pl.col(\"session\") == session).filter(\n",
    "    pl.col(\"scan_idx\") == scan_idx\n",
    ")\n",
    "print(unit_anatomy_df.shape)\n",
    "unit_anatomy_df[\"brain_area\"]"
   ]
  },
  {
   "cell_type": "markdown",
   "id": "77482ce6",
   "metadata": {},
   "source": [
    "# Training data"
   ]
  },
  {
   "cell_type": "code",
   "execution_count": null,
   "id": "2da6bd47",
   "metadata": {},
   "outputs": [],
   "source": [
    "max_items = None\n",
    "dataset = load_training_data(training_data_dir, max_items=max_items)\n"
   ]
  },
  {
   "cell_type": "code",
   "execution_count": null,
   "id": "70456193",
   "metadata": {},
   "outputs": [],
   "source": [
    "# dataset is a custom object that wraps a dataframe \n",
    "dataset.df.head()"
   ]
  },
  {
   "cell_type": "code",
   "execution_count": null,
   "id": "a5843b1c",
   "metadata": {},
   "outputs": [],
   "source": [
    "# Load the model and initialize weights\n"
   ]
  },
  {
   "cell_type": "code",
   "execution_count": null,
   "id": "2b5da62a",
   "metadata": {},
   "outputs": [],
   "source": [
    "model, unit_map = microns.scan(\n",
    "    session=session, \n",
    "    scan_idx=scan_idx, \n",
    "    directory=src_dir,\n",
    ")\n",
    "model = model.to(device)"
   ]
  },
  {
   "cell_type": "code",
   "execution_count": null,
   "id": "6e39df36",
   "metadata": {},
   "outputs": [],
   "source": [
    "torchinfo.summary(model, depth=2)"
   ]
  },
  {
   "cell_type": "code",
   "execution_count": null,
   "id": "bd84c5e5",
   "metadata": {},
   "outputs": [],
   "source": [
    "# # Pick a stimulus\n",
    "# stimuli = np.concatenate([x[:] for x in dataset.df.stimuli], axis=0)\n",
    "# perspectives = np.concatenate([x[:] for x in dataset.df.perspectives], axis=0)\n",
    "# modulations = np.concatenate([x[:] for x in dataset.df.modulations], axis=0)\n",
    "\n",
    "# with torch.no_grad():\n",
    "#     res = model.to_tensor(stimuli, perspectives, modulations)\n",
    "#     exported = torch.export.export(model, res[:3])"
   ]
  },
  {
   "cell_type": "markdown",
   "id": "af5c753d",
   "metadata": {},
   "source": [
    "# Run model"
   ]
  },
  {
   "cell_type": "code",
   "execution_count": null,
   "id": "5295d19e",
   "metadata": {},
   "outputs": [],
   "source": [
    "# Pick a stimulus\n",
    "index = 10\n",
    "stimuli = dataset.df.stimuli.iloc[index][:]\n",
    "perspectives = dataset.df.perspectives.iloc[index][:]\n",
    "modulations = dataset.df.modulations.iloc[index][:]\n",
    "units = dataset.df.units.iloc[index][:]"
   ]
  },
  {
   "cell_type": "code",
   "execution_count": null,
   "id": "b78dc70c",
   "metadata": {},
   "outputs": [],
   "source": [
    "# predict\n",
    "pred = model.predict(stimuli, perspectives, modulations)"
   ]
  },
  {
   "cell_type": "code",
   "execution_count": null,
   "id": "94f7f1dd",
   "metadata": {},
   "outputs": [],
   "source": [
    "# We have 8509 units measured. But the network only predicts 7493 units. \n",
    "# We seem to only be making predictions for a subset of units & this is captured by unit_map\n",
    "pred.shape, unit_map.shape, units.shape"
   ]
  },
  {
   "cell_type": "code",
   "execution_count": null,
   "id": "f950f040",
   "metadata": {},
   "outputs": [],
   "source": [
    "dataset.df"
   ]
  },
  {
   "cell_type": "code",
   "execution_count": null,
   "id": "c4d82975",
   "metadata": {},
   "outputs": [],
   "source": [
    "# readout id is the index of the readout unit that the network predicts\n",
    "# unit_id maps you to the experimentally measured unit\n",
    "assert (unit_map.index == np.arange(unit_map.shape[0])).all()\n",
    "unit_gt = units[:, unit_map[\"unit_id\"]]"
   ]
  },
  {
   "cell_type": "code",
   "execution_count": null,
   "id": "e9095192",
   "metadata": {},
   "outputs": [],
   "source": [
    "\n",
    "# Create a figure\n",
    "fig = plt.figure(figsize=(8, 6))\n",
    "\n",
    "# Create an ImageGrid with a single colorbar for the entire grid\n",
    "grid = ImageGrid(fig, 111,  # similar to subplot(111)\n",
    "                 nrows_ncols=(1, 2),\n",
    "                 axes_pad=0.3,\n",
    "                 aspect=False,\n",
    "                 share_all=True,  # share x and y axes between all subplots\n",
    "                 cbar_mode=\"single\",  # use a single colorbar for the grid\n",
    "                 cbar_location=\"right\",\n",
    "                 cbar_pad=0.1,\n",
    "                 )\n",
    "ax = grid.axes_all\n",
    "ax[0].imshow(pred.T, aspect=\"auto\", vmax=5, cmap=\"Grays_r\")\n",
    "ax[0].set_title(\"Predicted\")\n",
    "im = ax[1].imshow(unit_gt.T, aspect=\"auto\", vmax=5, cmap=\"Grays_r\")\n",
    "ax[1].set_title(\"Measured\")\n",
    "grid.cbar_axes[0].colorbar(im)\n",
    "ax[0].set_xlabel(\"Time\")\n",
    "ax[1].set_xlabel(\"Time\")\n",
    "ax[0].set_ylabel(\"Neurons\")\n"
   ]
  },
  {
   "cell_type": "code",
   "execution_count": null,
   "id": "d2614c2a",
   "metadata": {},
   "outputs": [],
   "source": [
    "mp.show_video(stimuli[:, :, :, 0], fps=10)"
   ]
  },
  {
   "cell_type": "code",
   "execution_count": null,
   "id": "1e2560dc",
   "metadata": {},
   "outputs": [],
   "source": [
    "rmap_gt = rastermap.Rastermap(n_clusters=30)\n",
    "rmap_gt.fit(unit_gt.T)\n"
   ]
  },
  {
   "cell_type": "code",
   "execution_count": null,
   "id": "e2c34b6a",
   "metadata": {},
   "outputs": [],
   "source": [
    "\n",
    "# Create a figure\n",
    "fig = plt.figure(figsize=(8, 6))\n",
    "\n",
    "# Create an ImageGrid with a single colorbar for the entire grid\n",
    "grid = ImageGrid(fig, 111,  # similar to subplot(111)\n",
    "                 nrows_ncols=(1, 2),\n",
    "                 axes_pad=0.3,\n",
    "                 aspect=False,\n",
    "                 share_all=True,  # share x and y axes between all subplots\n",
    "                 cbar_mode=\"single\",  # use a single colorbar for the grid\n",
    "                 cbar_location=\"right\",\n",
    "                 cbar_pad=0.1,\n",
    "                 )\n",
    "ax = grid.axes_all\n",
    "ax[0].imshow(pred.T[rmap_gt.isort, :], aspect=\"auto\", vmax=5, cmap=\"Grays_r\")\n",
    "ax[0].set_title(\"Predicted\")\n",
    "im = ax[1].imshow(unit_gt.T[rmap_gt.isort, :], aspect=\"auto\", vmax=5, cmap=\"Grays_r\")\n",
    "ax[1].set_title(\"Measured (rastermap source)\")\n",
    "grid.cbar_axes[0].colorbar(im)\n",
    "ax[0].set_xlabel(\"Time\")\n",
    "ax[1].set_xlabel(\"Time\")\n",
    "ax[0].set_ylabel(\"Neurons\")\n"
   ]
  },
  {
   "cell_type": "code",
   "execution_count": null,
   "id": "4dad189f",
   "metadata": {},
   "outputs": [],
   "source": [
    "\n",
    "# Create a figure\n",
    "fig = plt.figure(figsize=(8, 6))\n",
    "\n",
    "# Create an ImageGrid with a single colorbar for the entire grid\n",
    "grid = ImageGrid(fig, 111,  # similar to subplot(111)\n",
    "                 nrows_ncols=(2, 1),\n",
    "                 axes_pad=0.3,\n",
    "                 aspect=False,\n",
    "                 share_all=True,  # share x and y axes between all subplots\n",
    "                #  cbar_mode=\"single\",  # use a single colorbar for the grid\n",
    "                #  cbar_location=\"right\",\n",
    "                #  cbar_pad=0.1,\n",
    "                 )\n",
    "ax = grid.axes_all\n",
    "\n",
    "# ax[0].imshow(pred.T[rmap_gt.isort, :], aspect=\"auto\", vmax=5, cmap=\"Grays_r\")\n",
    "# ax[0].set_title(\"Predicted\")\n",
    "ax[0].plot(modulations[:, 0])\n",
    "ax[0].plot(modulations[:, 1])\n",
    "ax[0].set_title(\"Modulation\")\n",
    "ax[1].plot(perspectives[:, 0])\n",
    "ax[1].plot(perspectives[:, 1])\n",
    "ax[1].set_title(\"Perspective\")\n",
    "for i in (0, 1):\n",
    "    ax[i].grid(True)\n",
    "    ax[i].set_xlim(0, 300)"
   ]
  },
  {
   "cell_type": "code",
   "execution_count": null,
   "id": "fc59d3ab",
   "metadata": {},
   "outputs": [],
   "source": [
    "plt.figure(figsize=(8, 6))\n",
    "plt.imshow(unit_gt.T[rmap_gt.isort, :], aspect=\"auto\", vmax=5, cmap=\"Grays_r\")\n",
    "plt.title(\"Measured activity (rastermap sorted)\")"
   ]
  },
  {
   "cell_type": "code",
   "execution_count": null,
   "id": "4c2cb260",
   "metadata": {},
   "outputs": [],
   "source": [
    "\n",
    "rmap_pred = rastermap.Rastermap(n_clusters=100)\n",
    "rmap_pred.fit(pred.T)\n",
    "\n",
    "plt.imshow(pred.T[rmap_pred.isort, :], aspect=\"auto\", vmax=5, cmap=\"Grays_r\")"
   ]
  },
  {
   "cell_type": "code",
   "execution_count": null,
   "id": "3ea98c95",
   "metadata": {},
   "outputs": [],
   "source": [
    "\n",
    "# Create a figure\n",
    "fig = plt.figure(figsize=(8, 6))\n",
    "\n",
    "# Create an ImageGrid with a single colorbar for the entire grid\n",
    "grid = ImageGrid(fig, 111,  # similar to subplot(111)\n",
    "                 nrows_ncols=(1, 2),\n",
    "                 axes_pad=0.3,\n",
    "                 aspect=False,\n",
    "                 share_all=True,  # share x and y axes between all subplots\n",
    "                 cbar_mode=\"single\",  # use a single colorbar for the grid\n",
    "                 cbar_location=\"right\",\n",
    "                 cbar_pad=0.1,\n",
    "                 )\n",
    "ax = grid.axes_all\n",
    "ax[0].imshow(pred.T[rmap_pred.isort, :], aspect=\"auto\", vmax=5, cmap=\"Grays_r\")\n",
    "ax[0].set_title(\"Predicted (rastermap source)\")\n",
    "im = ax[1].imshow(unit_gt.T[rmap_pred.isort, :], aspect=\"auto\", vmax=5, cmap=\"Grays_r\")\n",
    "ax[1].set_title(\"Measured\")\n",
    "grid.cbar_axes[0].colorbar(im)\n",
    "ax[0].set_xlabel(\"Time\")\n",
    "ax[1].set_xlabel(\"Time\")\n",
    "ax[0].set_ylabel(\"Neurons\")\n"
   ]
  },
  {
   "cell_type": "code",
   "execution_count": null,
   "id": "d7d04b5a",
   "metadata": {},
   "outputs": [],
   "source": [
    "plt.plot(unit_gt.mean(1), label=\"measured\")\n",
    "plt.plot(pred.mean(1), label=\"prediction\")\n",
    "plt.legend()\n",
    "plt.xlabel(\"time\")\n",
    "plt.ylabel(\"Averaged signal over neurons\")"
   ]
  },
  {
   "cell_type": "code",
   "execution_count": null,
   "id": "31ab2613",
   "metadata": {},
   "outputs": [],
   "source": [
    "nsamples = int(300*6.3/30)\n",
    "\n",
    "unit_gt_ds = scipy.signal.decimate(unit_gt, q=5, axis=0)\n",
    "pred_ds = scipy.signal.decimate(pred, q=5, axis=0)"
   ]
  },
  {
   "cell_type": "code",
   "execution_count": null,
   "id": "3ed3cc60",
   "metadata": {},
   "outputs": [],
   "source": [
    "\n",
    "# Create a figure\n",
    "fig = plt.figure(figsize=(8, 6))\n",
    "\n",
    "# Create an ImageGrid with a single colorbar for the entire grid\n",
    "grid = ImageGrid(fig, 111,  # similar to subplot(111)\n",
    "                 nrows_ncols=(1, 2),\n",
    "                 axes_pad=0.3,\n",
    "                 aspect=False,\n",
    "                 share_all=True,  # share x and y axes between all subplots\n",
    "                 cbar_mode=\"single\",  # use a single colorbar for the grid\n",
    "                 cbar_location=\"right\",\n",
    "                 cbar_pad=0.1,\n",
    "                 )\n",
    "ax = grid.axes_all\n",
    "ax[0].imshow(pred_ds.T, aspect=\"auto\", vmin=1, vmax=5, cmap=\"Grays_r\")\n",
    "ax[0].set_title(\"Predicted\")\n",
    "im = ax[1].imshow(unit_gt_ds.T, aspect=\"auto\", vmin=1, vmax=5, cmap=\"Grays_r\")\n",
    "ax[1].set_title(\"Measured\")\n",
    "grid.cbar_axes[0].colorbar(im)\n",
    "ax[0].set_xlabel(\"Neuron recording frames\")\n",
    "ax[1].set_xlabel(\"Neuron recording frames\")\n",
    "ax[0].set_ylabel(\"Neurons\")\n"
   ]
  },
  {
   "cell_type": "code",
   "execution_count": null,
   "id": "6d589984",
   "metadata": {},
   "outputs": [],
   "source": [
    "plt.plot(unit_gt_ds.mean(1), label=\"measured\")\n",
    "plt.plot(pred_ds.mean(1), label=\"prediction\")\n",
    "plt.legend()\n",
    "plt.xlabel(\"Neuronal recording frames\")\n",
    "plt.ylabel(\"Averaged signal over neurons\")"
   ]
  },
  {
   "cell_type": "code",
   "execution_count": null,
   "id": "cd6f56ea",
   "metadata": {},
   "outputs": [],
   "source": [
    "# 5 random neurons\n",
    "# np.random.seed(0)\n",
    "idxs = np.random.randint(0, 7493, size=5)\n",
    "plt.figure(figsize=(12, 8))\n",
    "for i in idxs:\n",
    "    p = plt.plot(pred[:, i], label=f\"unit={i} (pred)\")\n",
    "    plt.plot(unit_gt[:, i], ls=\"dotted\", label=f\"unit={i} (meas)\", c = p[-1].get_color())\n",
    "plt.legend(bbox_to_anchor=(1,1))\n",
    "plt.xlabel(\"time\")\n",
    "plt.ylabel(\"Ca measurement\")"
   ]
  },
  {
   "cell_type": "code",
   "execution_count": null,
   "id": "efb5422b",
   "metadata": {},
   "outputs": [],
   "source": [
    "res = plt.hist(np.sort(unit_gt.max(0) / np.mean(unit_gt, axis=0)), bins=70, histtype=\"step\", label=\"measured\")\n",
    "plt.hist(np.sort(pred.max(0) / np.mean(pred, axis=0)), bins=res[1], histtype=\"step\", label=\"prediction\")\n",
    "plt.legend()\n",
    "plt.xlim(0, 100)\n",
    "plt.xlabel(\"Max signal over time/mean signal over time\")"
   ]
  },
  {
   "cell_type": "markdown",
   "id": "36789e17",
   "metadata": {},
   "source": [
    "# Evaluation data (repeat stimuli)"
   ]
  },
  {
   "cell_type": "code",
   "execution_count": null,
   "id": "caeeb5b1",
   "metadata": {},
   "outputs": [],
   "source": [
    "from fnn.data import load_evaluation_data\n",
    "from fnn import evaluate\n",
    "from pathlib import Path\n",
    "\n",
    "\n",
    "evaluation_data = load_evaluation_data(evaluation_data_dir)"
   ]
  },
  {
   "cell_type": "code",
   "execution_count": null,
   "id": "7c655200",
   "metadata": {},
   "outputs": [],
   "source": [
    "model, unit_map = microns.scan(\n",
    "    session=session, \n",
    "    scan_idx=scan_idx, \n",
    "    directory=src_dir,\n",
    ")\n",
    "model = model.to(device)"
   ]
  },
  {
   "cell_type": "markdown",
   "id": "5607eca3",
   "metadata": {},
   "source": [
    "## Readout weights"
   ]
  },
  {
   "cell_type": "code",
   "execution_count": null,
   "id": "cba17856",
   "metadata": {},
   "outputs": [],
   "source": [
    "weights = torch.reshape(\n",
    "    torch.concatenate(list(model.module(\"readout\").module(\"feature\").parameters()), axis=1), (-1, 512)).detach().cpu().numpy()"
   ]
  },
  {
   "cell_type": "code",
   "execution_count": null,
   "id": "5bb70167",
   "metadata": {},
   "outputs": [],
   "source": [
    "pca = sklearn.decomposition.PCA(n_components=50)\n",
    "proj = pca.fit_transform(weights)"
   ]
  },
  {
   "cell_type": "code",
   "execution_count": null,
   "id": "e1b9b336",
   "metadata": {},
   "outputs": [],
   "source": [
    "\n",
    "\n",
    "\n",
    "tsne = sklearn.manifold.TSNE(n_components=2)\n",
    "tsne_proj = tsne.fit_transform(proj)"
   ]
  },
  {
   "cell_type": "code",
   "execution_count": null,
   "id": "4db4acdd",
   "metadata": {},
   "outputs": [],
   "source": [
    "plt.scatter(proj[:, 0], proj[:, 1], marker=\".\", alpha=0.2)\n",
    "plt.xlabel(\"PC1\")\n",
    "plt.ylabel(\"PC2\")"
   ]
  },
  {
   "cell_type": "code",
   "execution_count": null,
   "id": "0eb4ad14",
   "metadata": {},
   "outputs": [],
   "source": [
    "plt.scatter(tsne_proj[:, 0], tsne_proj[:, 1], marker=\".\", alpha=0.2)\n",
    "plt.xlabel(\"TSNE1\")\n",
    "plt.ylabel(\"TSNE2\")"
   ]
  },
  {
   "cell_type": "code",
   "execution_count": null,
   "id": "c3828cfe",
   "metadata": {},
   "outputs": [],
   "source": [
    "joined = pl.DataFrame(unit_map.reset_index()).join(unit_anatomy_df, on=[\"session\", \"scan_idx\", \"unit_id\"], how=\"left\")\n",
    "for (grp,), piece in joined.sort(\"brain_area\").group_by(\"brain_area\", maintain_order=True):\n",
    "    ixs = piece[\"readout_id\"].to_numpy()\n",
    "    plt.scatter(tsne_proj[ixs, 0], tsne_proj[ixs, 1], marker=\".\", alpha=0.2, label=grp)\n",
    "    \n",
    "plt.legend()\n",
    "plt.xlabel(\"TSNE1\")\n",
    "plt.ylabel(\"TSNE2\")\n"
   ]
  },
  {
   "cell_type": "markdown",
   "id": "4ef74203",
   "metadata": {},
   "source": [
    "## Run on evaluation data"
   ]
  },
  {
   "cell_type": "code",
   "execution_count": null,
   "id": "c441532c",
   "metadata": {},
   "outputs": [],
   "source": [
    "evaluation_data.keys()"
   ]
  },
  {
   "cell_type": "code",
   "execution_count": null,
   "id": "feff3711",
   "metadata": {},
   "outputs": [],
   "source": [
    "from tqdm import tqdm"
   ]
  },
  {
   "cell_type": "code",
   "execution_count": null,
   "id": "8acb44e8",
   "metadata": {},
   "outputs": [],
   "source": [
    "s = evaluation_data['stimuli']\n",
    "p = evaluation_data['perspectives']\n",
    "m = evaluation_data['modulations']\n",
    "\n",
    "units_pred = []\n",
    "for i in tqdm(range(len(s)), desc=\"Stimuli\"):\n",
    "    repeats_pred = []\n",
    "    for j in range(len(s[i])):\n",
    "        repeats_pred.append(\n",
    "            model.predict(\n",
    "                stimuli=s[i][j],\n",
    "                perspectives=p[i][j],\n",
    "                modulations=m[i][j]\n",
    "            )\n",
    "        )\n",
    "    units_pred.append(repeats_pred)"
   ]
  },
  {
   "cell_type": "code",
   "execution_count": null,
   "id": "993ccb7e",
   "metadata": {},
   "outputs": [],
   "source": [
    "units_pred = np.array(units_pred)"
   ]
  },
  {
   "cell_type": "code",
   "execution_count": null,
   "id": "7e70bbc2",
   "metadata": {},
   "outputs": [],
   "source": [
    "# videos x repeat trials x time x neurons\n",
    "units_pred.shape"
   ]
  },
  {
   "cell_type": "code",
   "execution_count": null,
   "id": "7865ece0",
   "metadata": {},
   "outputs": [],
   "source": [
    "units_meas = np.array(evaluation_data['units'])[:, :, :, unit_map[\"unit_id\"]]\n",
    "units_meas.shape"
   ]
  },
  {
   "cell_type": "markdown",
   "id": "0c1691ec",
   "metadata": {},
   "source": [
    "## Rastermap analysis"
   ]
  },
  {
   "cell_type": "code",
   "execution_count": null,
   "id": "3f351b3b",
   "metadata": {},
   "outputs": [],
   "source": [
    "# Pick a video\n",
    "video_ix = 0\n",
    "\n",
    "# Which trial to use for sorting\n",
    "trial_ix = 0"
   ]
  },
  {
   "cell_type": "code",
   "execution_count": null,
   "id": "bcf6c14f",
   "metadata": {},
   "outputs": [],
   "source": [
    "stimulus_videos = np.concatenate([evaluation_data['stimuli'][i][trial_ix][:, :, :, 0] for i in range(6)], axis=-1)\n",
    "mp.show_video(stimulus_videos, fps=30)\n",
    "# stimulus_videos.shape"
   ]
  },
  {
   "cell_type": "code",
   "execution_count": null,
   "id": "8a77f662",
   "metadata": {},
   "outputs": [],
   "source": [
    "unit_anatomy_df = pl.read_csv(unit_anatomy_path).filter(pl.col(\"session\") == session).filter(\n",
    "    pl.col(\"scan_idx\") == scan_idx\n",
    ")\n",
    "print(unit_anatomy_df.shape)\n",
    "\n",
    "joined = pl.DataFrame(unit_map.reset_index()).join(unit_anatomy_df, on=[\"session\", \"scan_idx\", \"unit_id\"], how=\"left\")\n",
    "joined.head()"
   ]
  },
  {
   "cell_type": "code",
   "execution_count": null,
   "id": "e6b7b5ba",
   "metadata": {},
   "outputs": [],
   "source": [
    "# labels = joined[\"brain_area\"][order]\n",
    "# unique_labels = labels.unique()\n",
    "# colors = plt.cm.Set1(np.linspace(0, 1, len(unique_labels)))\n",
    "# color_map = dict(zip(unique_labels, colors))\n",
    "# bar_colors = [color_map[label] for label in labels]\n",
    "\n",
    "# plt.bar(range(len(labels)), [1]*len(labels), color=bar_colors, width=1.0)\n",
    "# handles = [plt.Rectangle((0,0),1,1, color=color_map[label]) for label in unique_labels]\n",
    "# plt.legend(handles, unique_labels)\n",
    "# plt.show()"
   ]
  },
  {
   "cell_type": "code",
   "execution_count": null,
   "id": "44a65171",
   "metadata": {},
   "outputs": [],
   "source": [
    "units_meas[video_ix].shape"
   ]
  },
  {
   "cell_type": "code",
   "execution_count": null,
   "id": "88a69431",
   "metadata": {},
   "outputs": [],
   "source": [
    "# gut check: 3 trials, 2 time steps, 7 neurons. Trial 1 = 0, Trial 2 = 1, Trial 3=2\n",
    "x = np.stack([np.zeros((2, 7)), np.ones((2, 7)), 2*np.ones((2, 7))], axis=0)\n",
    "print(x.shape)\n",
    "\n",
    "x.reshape((-1, 7)).T"
   ]
  },
  {
   "cell_type": "code",
   "execution_count": null,
   "id": "694e7505",
   "metadata": {},
   "outputs": [],
   "source": [
    "orders = []\n",
    "for video_ix in range(6):\n",
    "    mat = units_meas[video_ix].reshape((-1, 7493)).T\n",
    "    j = np.argmax(mat[:, trial_ix*300:(trial_ix+1)*300], axis=1)\n",
    "    order = np.argsort(j)\n",
    "    orders.append(order)\n",
    "orders = np.array(orders)"
   ]
  },
  {
   "cell_type": "code",
   "execution_count": null,
   "id": "f03f5072",
   "metadata": {},
   "outputs": [],
   "source": [
    "import rerun as rr"
   ]
  },
  {
   "cell_type": "code",
   "execution_count": null,
   "id": "8fbaf696",
   "metadata": {},
   "outputs": [],
   "source": [
    "grey = np.expand_dims(\n",
    "    (np.array(mpl.colors.to_rgb(\"grey\"))*255).astype(np.uint8), 0)\n",
    "red =  np.expand_dims((np.array(mpl.colors.to_rgb(\"red\"))*255).astype(np.uint8), 0)\n"
   ]
  },
  {
   "cell_type": "code",
   "execution_count": null,
   "id": "4b33a30c",
   "metadata": {},
   "outputs": [],
   "source": [
    "rr.init(\"animate\")\n",
    "npos = joined.select([\"unit_x\", \"unit_y\", \"unit_z\"]).to_numpy()\n",
    "rr.log(\"all\", rr.Points3D(npos, colors=np.repeat(grey, 7493, axis=0), radii=2), static=True)\n",
    "for i in range(7493):\n",
    "    rr.set_time(\"peak\", sequence=i)\n",
    "    rr.log(\"neuron\", rr.Points3D(npos[orders[:1, i]], colors=np.repeat(red, 1, axis=0), radii=[20]*1))\n",
    "rr.notebook_show()"
   ]
  },
  {
   "cell_type": "code",
   "execution_count": null,
   "id": "85ca7c7b",
   "metadata": {},
   "outputs": [],
   "source": [
    "video_ix = 4\n",
    "rmap_ix = 0\n",
    "\n",
    "rmap = rastermap.Rastermap()\n",
    "rmap.fit(units_meas[video_ix, rmap_ix, :, :].T)\n"
   ]
  },
  {
   "cell_type": "code",
   "execution_count": null,
   "id": "4190bbe1",
   "metadata": {},
   "outputs": [],
   "source": [
    "\n",
    "mat = units_meas[video_ix].reshape((-1, 7493)).T\n",
    "# j = np.argmax(mat[:, trial_ix*300:(trial_ix+1)*300], axis=1)\n",
    "# order = np.argsort(j)\n",
    "order = rmap.isort\n",
    "rows, cols = mat.shape\n",
    "dpi = 100\n",
    "plt.figure(figsize=(cols/dpi, rows/dpi))\n",
    "plt.imshow(mat[order, :], vmin=1, vmax=10, cmap=\"Greys_r\", aspect=\"auto\")\n",
    "for i in range(1, 10):\n",
    "    plt.axvline(i*300, color=\"orange\", ls=\"dashed\")\n",
    "# plt.xticks(np.arange(0, 3000, 150), np.arange(0, 3000, 300))\n",
    "plt.title(f\"Video {video_ix+1}/6: Trials stacked along x\")\n",
    "plt.xlabel(\"Time\")\n",
    "plt.ylabel(\"Neurons\")\n",
    "plt.savefig(\"rastermap_sorted_neuron_activity_video4.png\", dpi=dpi, bbox_inches=\"tight\")\n",
    "\n",
    "\n"
   ]
  },
  {
   "cell_type": "code",
   "execution_count": null,
   "id": "58720910",
   "metadata": {},
   "outputs": [],
   "source": [
    "\n",
    "mat = units_meas[video_ix].reshape((-1, 7493)).T\n",
    "# j = np.argmax(mat[:, trial_ix*300:(trial_ix+1)*300], axis=1)\n",
    "# if video_ix == 0:\n",
    "#     order = np.argsort(j)\n",
    "rows, cols = mat.shape\n",
    "dpi = 100\n",
    "plt.figure(figsize=(cols/dpi, rows/dpi))\n",
    "plt.imshow(mat[order, :][::20, :], vmin=1, vmax=10, cmap=\"Greys_r\", aspect=\"auto\")\n",
    "for i in range(1, 10):\n",
    "    plt.axvline(i*300, color=\"orange\", ls=\"dashed\")\n",
    "# plt.xticks(np.arange(0, 3000, 150), np.arange(0, 3000, 300))\n",
    "plt.title(f\"Video {video_ix+1}/6: Trials stacked along x\")\n",
    "plt.xlabel(\"Time\")\n",
    "plt.ylabel(\"Neurons - downsampled 20x\")\n",
    "plt.savefig(\"rastermap_sorted_neuron_activity_video4_ds.png\", dpi=dpi, bbox_inches=\"tight\")\n",
    "    \n",
    "\n"
   ]
  },
  {
   "cell_type": "code",
   "execution_count": null,
   "id": "d9a5bc66",
   "metadata": {},
   "outputs": [],
   "source": [
    "omat = np.clip(mat[order, :], 0, 10)\n",
    "plt.plot(omat[0])\n",
    "plt.plot(omat[100])\n",
    "plt.plot(omat[200])\n",
    "for i in range(1, 10):\n",
    "    plt.axvline(i*300, color=\"k\", ls=\"dashed\")\n",
    "plt.xlim(0, 3000)\n",
    "plt.ylim(0, 10)"
   ]
  },
  {
   "cell_type": "code",
   "execution_count": null,
   "id": "a701862a",
   "metadata": {},
   "outputs": [],
   "source": [
    "video_ix = 0\n",
    "mat = units_meas[video_ix].reshape((-1, 7493)).T\n",
    "j = np.argmax(mat[:, trial_ix*300:(trial_ix+1)*300], axis=1)\n",
    "\n",
    "order = np.argsort(j)\n",
    "\n",
    "mat2 = mat[order, :]\n",
    "\n",
    "ixs = np.sort(np.random.randint(0, 7493, size=5))\n",
    "for i in range(5):\n",
    "    plt.scatter(np.arange(1, 3001), mat2[i, :], marker=\".\")\n",
    "    \n",
    "plt.ylim(3, None)\n",
    "# plt.yscale(\"log\")\n"
   ]
  },
  {
   "cell_type": "code",
   "execution_count": null,
   "id": "f23bdc65",
   "metadata": {},
   "outputs": [],
   "source": [
    "unit_map"
   ]
  },
  {
   "cell_type": "code",
   "execution_count": null,
   "id": "e6f1a4ab",
   "metadata": {},
   "outputs": [],
   "source": [
    "\n",
    "# Create a figure\n",
    "fig = plt.figure(figsize=(8, 6))\n",
    "\n",
    "# Create an ImageGrid with a single colorbar for the entire grid\n",
    "grid = ImageGrid(fig, 111,  # similar to subplot(111)\n",
    "                 nrows_ncols=(20, 1),\n",
    "                 axes_pad=(0., 0.),\n",
    "                 aspect=False,\n",
    "                 share_all=True,  # share x and y axes between all subplots\n",
    "                #  cbar_mode=\"single\",  # use a single colorbar for the grid\n",
    "                #  cbar_location=\"right\",\n",
    "                #  cbar_pad=0.1,\n",
    "                 )\n",
    "ax = grid.axes_all\n",
    "np.random.seed(123)\n",
    "ixs =np.random.choice(7493, size=10)\n",
    "for i, ix in enumerate(ixs):\n",
    "    umeas = units_meas[video_ix, :, :, ix]\n",
    "    upred = units_pred[video_ix, :, :, ix]\n",
    "    vmax = np.percentile(umeas, 98)\n",
    "    im = ax[2*i].imshow(umeas, vmin=1, vmax=vmax, cmap=\"Greys_r\")\n",
    "    vmin, vmax = im.get_clim()\n",
    "    print(vmin, vmax)\n",
    "    ax[2*i+1].imshow(upred, vmin=vmin, vmax=vmax)\n",
    "    ax[2*i].set_yticks([])\n",
    "    ax[2*i+1].set_yticks([])\n",
    "    \n",
    "# grid.cbar_axes[0].colorbar(im)\n",
    "# plt.plot(units_meas[0, 0, :, 10])"
   ]
  },
  {
   "cell_type": "code",
   "execution_count": null,
   "id": "3267b032",
   "metadata": {},
   "outputs": [],
   "source": [
    "\n",
    "rmap = rastermap.Rastermap()\n",
    "rmap_ix = 0\n",
    "rmap.fit(np.log1p(units_meas[video_ix, rmap_ix, :, :].T))\n"
   ]
  },
  {
   "cell_type": "code",
   "execution_count": null,
   "id": "dbf8c768",
   "metadata": {},
   "outputs": [],
   "source": [
    "mat = units_meas[video_ix].reshape((-1, 7493)).T\n",
    "\n",
    "j = np.argmax(mat[:, , rmap_ix*300:(rmap_ix+1)*300], axis=1)\n",
    "# j = np.argmax(np.clip(mat[rmap.isort, rmap_ix*300:(rmap_ix+1)*300], 0, 5), axis=1)\n",
    "order = np.argsort(j)\n",
    "\n",
    "plt.figure(figsize=(12, 9))\n",
    "plt.imshow(mat[order, :], vmax=10, cmap=\"Greys_r\", aspect=\"auto\")\n",
    "for i in range(1, 10):\n",
    "    plt.axvline(i*300, color=\"orange\", ls=\"dashed\")\n",
    "plt.xticks(np.arange(0, 3000, 300))\n",
    "plt.title(\"Repeat stimuli stacked together\")\n",
    "plt.xlabel(\"Time\")\n",
    "plt.ylabel(\"Neurons\")"
   ]
  },
  {
   "cell_type": "code",
   "execution_count": null,
   "id": "3d6aace9",
   "metadata": {},
   "outputs": [],
   "source": [
    "mat = units_pred[video_ix].reshape((-1, 7493)).T\n",
    "plt.figure(figsize=(12, 9))\n",
    "plt.imshow(mat[rmap.isort, :], vmax=5, cmap=\"Greys_r\", aspect=\"auto\")\n",
    "for i in range(1, 10):\n",
    "    plt.axvline(i*300, color=\"orange\", ls=\"dashed\")\n",
    "plt.xticks(np.arange(0, 3000, 300))\n",
    "plt.title(\"Predicted responses stacked\")\n",
    "plt.xlabel(\"Time\")\n",
    "plt.ylabel(\"Neurons\")"
   ]
  },
  {
   "cell_type": "code",
   "execution_count": null,
   "id": "3af9e75a",
   "metadata": {},
   "outputs": [],
   "source": [
    "video_ix = 0\n",
    "rmap = rastermap.Rastermap()\n",
    "rmap_ix = 4\n",
    "rmap.fit(units_pred[video_ix, rmap_ix, :, :].T)\n"
   ]
  },
  {
   "cell_type": "code",
   "execution_count": null,
   "id": "73b11d6d",
   "metadata": {},
   "outputs": [],
   "source": [
    "mat = units_pred[video_ix].reshape((-1, 7493)).T\n",
    "plt.figure(figsize=(12, 9))\n",
    "plt.imshow(mat[rmap.isort, :], vmax=5, cmap=\"Greys_r\", aspect=\"auto\")\n",
    "for i in range(1, 10):\n",
    "    plt.axvline(i*300, color=\"orange\", ls=\"dashed\")\n",
    "plt.xticks(np.arange(0, 3000, 300))\n",
    "plt.title(\"Predicted responses stacked\")\n",
    "plt.xlabel(\"Time\")\n",
    "plt.ylabel(\"Neurons\")"
   ]
  },
  {
   "cell_type": "code",
   "execution_count": null,
   "id": "0832c056",
   "metadata": {},
   "outputs": [],
   "source": [
    "mat = units_meas[video_ix].reshape((-1, 7493)).T\n",
    "plt.figure(figsize=(12, 9))\n",
    "plt.imshow(mat[rmap.isort, :], vmax=5, cmap=\"Greys_r\", aspect=\"auto\")\n",
    "for i in range(1, 10):\n",
    "    plt.axvline(i*300, color=\"orange\", ls=\"dashed\")\n",
    "plt.xticks(np.arange(0, 3000, 300))\n",
    "plt.title(\"Measured units stacked together\")\n",
    "plt.xlabel(\"Time\")\n",
    "plt.ylabel(\"Neurons\")"
   ]
  },
  {
   "cell_type": "code",
   "execution_count": null,
   "id": "a1c7fe0d",
   "metadata": {},
   "outputs": [],
   "source": [
    "rmap = rastermap.Rastermap()\n",
    "sim_mat = (np.random.random((7500, 300)) < 0.05).astype(np.float32)\n",
    "rmap.fit(sim_mat)"
   ]
  },
  {
   "cell_type": "code",
   "execution_count": null,
   "id": "a5091008",
   "metadata": {},
   "outputs": [],
   "source": [
    "plt.imshow(sim_mat[rmap.isort, :], aspect=\"auto\")"
   ]
  },
  {
   "cell_type": "code",
   "execution_count": null,
   "id": "4c57daff",
   "metadata": {},
   "outputs": [],
   "source": [
    "unit_map"
   ]
  },
  {
   "cell_type": "code",
   "execution_count": null,
   "id": "9f3b900e",
   "metadata": {},
   "outputs": [],
   "source": []
  }
 ],
 "metadata": {
  "kernelspec": {
   "display_name": "Python 3 (fnn)",
   "language": "python",
   "name": "python3"
  },
  "language_info": {
   "codemirror_mode": {
    "name": "ipython",
    "version": 3
   },
   "file_extension": ".py",
   "mimetype": "text/x-python",
   "name": "python",
   "nbconvert_exporter": "python",
   "pygments_lexer": "ipython3",
   "version": "3.13.7"
  }
 },
 "nbformat": 4,
 "nbformat_minor": 5
}
