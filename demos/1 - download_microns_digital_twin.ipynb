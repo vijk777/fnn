{
 "cells": [
  {
   "cell_type": "code",
   "execution_count": 1,
   "id": "8da1ce6a-e485-480e-9c4b-e5f964dbeb1c",
   "metadata": {
    "tags": []
   },
   "outputs": [],
   "source": [
    "from IPython.display import Markdown\n",
    "from fnn import microns"
   ]
  },
  {
   "cell_type": "markdown",
   "id": "c9e31224-0cdc-46fb-9bf1-4d8db75a2e26",
   "metadata": {},
   "source": [
    "# Download MICrONS digital twin"
   ]
  },
  {
   "cell_type": "code",
   "execution_count": null,
   "id": "2c9eab32-3539-4121-bbb0-a78a0f55ace0",
   "metadata": {
    "tags": []
   },
   "outputs": [],
   "source": [
    "target_dir = '/groups/saalfeld/saalfeldlab/vijay/fnn/data/microns_digital_twin/params/'"
   ]
  },
  {
   "cell_type": "code",
   "execution_count": 3,
   "id": "c2e7115d-9395-4e1e-94ab-38a3d748b798",
   "metadata": {
    "tags": []
   },
   "outputs": [
    {
     "name": "stderr",
     "output_type": "stream",
     "text": [
      "[2025-08-27T14:30:43Z] [INFO] fnn.microns: Downloading model parameters and metadata to `/workspace/fnn/data/microns_digital_twin/params/`\n",
      "100%|██████████| 222M/222M [00:14<00:00, 15.4MB/s] \n",
      "100%|██████████| 3.69k/3.69k [00:00<00:00, 2.99MB/s]\n"
     ]
    }
   ],
   "source": [
    "microns.download_data(directory=target_dir)"
   ]
  },
  {
   "cell_type": "markdown",
   "id": "f489d485-4374-449f-8333-789ed6653d19",
   "metadata": {},
   "source": [
    "# Display README"
   ]
  },
  {
   "cell_type": "code",
   "execution_count": 4,
   "id": "c5cd8ddb-46a1-4a80-ac8c-5fdf000e9fb9",
   "metadata": {
    "tags": []
   },
   "outputs": [
    {
     "data": {
      "text/markdown": [
       "## Overview\n",
       "\n",
       "This directory contains supporting files for the data release for:\n",
       "\n",
       "```\n",
       "Foundation model of neural activity predicts response to new stimulus types  \n",
       "```\n",
       "[https://doi.org/10.1038/s41586-025-08829-y](https://doi.org/10.1038/s41586-025-08829-y)\n",
       "\n",
       "<br>\n",
       "\n",
       "For technical details of the model, see section of Methods (in particular, Neural network architecture, Perspective module, Modulation module, Core Module, Readout module).  \n",
       "\n",
       "The Core module section of the Methods lists two different types of recurrent cores (Conv-LSTM and CvT-LSTM).  \n",
       "\n",
       "The recurrent core used here is **CvT-LSTM**.   \n",
       "\n",
       "For instructions on how to download the model weights from bossDB and to use the model, see the [FNN](https://github.com/cajal/fnn) repo.\n",
       "\n",
       "## Files \n",
       "\n",
       "The directory contains two files:\n",
       "\n",
       "```\n",
       "    foundational_model_weights_and_metadata_v1.zip\n",
       "        contains the results of the export function from the modeling pipeline (`https://github.com/cajal/foundation/blob/nature_v1/foundation/exports/microns.py`), which generates a compressed ZIP archive containing a collection of files related to neural network models and scan data. \n",
       "\n",
       "    readme_v{i}.md\n",
       "        This file. If downloaded inside the FNN repo, it may be renamed to README.md\n",
       "```\n",
       "\n",
       "## File Organization\n",
       "\n",
       "Inside `foundational_model_weights_and_metadata_v1.zip` exist the following files:\n",
       "- params_core.pt\n",
       "- params_{session}_{scan_idx}.pt\n",
       "- units.csv\n",
       "- scans.csv\n",
       "\n",
       "## File Descriptions\n",
       "\n",
       "### Parameter Files (*.pt)\n",
       "\n",
       "`params_core.pt`\n",
       "\n",
       "    A PyTorch state dictionary file containing the foundation core model parameters. \n",
       "    \n",
       "    This file includes only parameters whose keys start with \"core.\" from the original model state dictionary. \n",
       "    \n",
       "    The core parameters are learned by training on the foundation cohort scans. \n",
       "    \n",
       "    Once learned, the core parameters are frozen and transferred to all other scans.\n",
       "\n",
       "<br>\n",
       "\n",
       "`params_{session}_{scan_idx}.pt`\n",
       "\n",
       "    Scan-specific parameter files containing non-core model parameters. \n",
       "    \n",
       "    The params in this file include the readout feature weights that are tuned specifically for every scan of the mouse.\n",
       "\n",
       "    A scan is identified by `session` and `scan_idx`.\n",
       "    \n",
       "    The naming convention follows the pattern:\n",
       "        {session}           :      The session identifier\n",
       "        {scan_idx}          :      The scan index number\n",
       "\n",
       "<br>\n",
       "\n",
       "**IMPORTANT**\n",
       "\n",
       "A single model is specified by a combination of `params_core.pt` and `params_{session}_{scan_idx}.pt`. \n",
       "\n",
       "For example, the model for session: 4, scan_idx: 7 would be synthesized by combining `params_core.pt` with `params_4_7.pt`.\n",
       "\n",
       "### Data Files (CSV)\n",
       "\n",
       "These data files contain metadata for each model.\n",
       "\n",
       "`units.csv`\n",
       "    \n",
       "    A comma-separated values file containing unit metadata for all scans. \n",
       "    \n",
       "    The file includes the following columns:\n",
       "\n",
       "        session (int64)      :      Session identifier, unique.\n",
       "        scan_idx (int64)     :      Scan index number, unique per session but reused across sessions.\n",
       "        unit_id (int64)      :      Identifier for each unit, unique per scan but reused across scans, non-consecutive.\n",
       "        readout_id (int64)   :      Identifier for each unit, unique per scan but reused across scans, consecutive.\n",
       "\n",
       "<br>\n",
       "\n",
       "`scans.csv`\n",
       "    \n",
       "    A summary file containing metadata for all scan recordings.\n",
       "    \n",
       "    The file contains the following columns:\n",
       "\n",
       "        session (int64)      :      Session identifier, unique.\n",
       "        scan_idx (int64)     :      Scan index number, unique per session but reused across sessions.\n",
       "        units (int64)        :      Number of readout_ids in the scan\n",
       "        data_id (str)        :      Hash identifying scan and preprocessing methods in model training pipeline\n"
      ],
      "text/plain": [
       "<IPython.core.display.Markdown object>"
      ]
     },
     "execution_count": 4,
     "metadata": {},
     "output_type": "execute_result"
    }
   ],
   "source": [
    "with open(target_dir + \"README.md\", \"r\") as f:\n",
    "    content = f.read()\n",
    "\n",
    "Markdown(content)"
   ]
  }
 ],
 "metadata": {
  "kernelspec": {
   "display_name": "Python 3 (ipykernel)",
   "language": "python",
   "name": "python3"
  }
 },
 "nbformat": 4,
 "nbformat_minor": 5
}
